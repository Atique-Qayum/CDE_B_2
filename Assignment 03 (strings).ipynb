{
 "cells": [
  {
   "cell_type": "markdown",
   "metadata": {},
   "source": [
    "# Strings Assignments "
   ]
  },
  {
   "cell_type": "markdown",
   "metadata": {},
   "source": [
    "1. Write a program that accepts a string from user. Your program should count and display number of \n",
    "vowels in that string. "
   ]
  },
  {
   "cell_type": "code",
   "execution_count": 1,
   "metadata": {},
   "outputs": [
    {
     "name": "stdout",
     "output_type": "stream",
     "text": [
      "Number of vowels: 9\n"
     ]
    }
   ],
   "source": [
    "string = input(\"Enter a string: \")\n",
    "vowels = \"aeiouAEIOU\"\n",
    "count = 0\n",
    "\n",
    "for char in string:\n",
    "    if char in vowels:\n",
    "        count += 1\n",
    "\n",
    "print(\"Number of vowels:\", count)"
   ]
  },
  {
   "cell_type": "markdown",
   "metadata": {},
   "source": [
    "2. Write a program that reads a string from keyboard and display: \n",
    "* The number of uppercase letters in the string \n",
    "* The number of lowercase letters in the string \n",
    "* The number of digits in the string \n",
    "* The number of whitespace characters in the string "
   ]
  },
  {
   "cell_type": "code",
   "execution_count": 4,
   "metadata": {},
   "outputs": [
    {
     "name": "stdout",
     "output_type": "stream",
     "text": [
      "Uppercase: 2, Lowercase: 22, Digits: 2, Spaces: 8\n"
     ]
    }
   ],
   "source": [
    "string = input(\"Enter a string: \")\n",
    "uppercase_count = sum(1 for char in string if char.isupper())\n",
    "lowercase_count = sum(1 for char in string if char.islower())\n",
    "digit_count = sum(1 for char in string if char.isdigit())\n",
    "space_count = sum(1 for char in string if char.isspace())\n",
    "print(f\"Uppercase: {uppercase_count}, Lowercase: {lowercase_count}, Digits: {digit_count}, Spaces: {space_count}\")"
   ]
  },
  {
   "cell_type": "markdown",
   "metadata": {},
   "source": [
    "3. Write a Python program that accepts a string from user. Your program should create and display a \n",
    "new string where the first and last characters have been exchanged. \n",
    "For example if the user enters the string 'HELLO' then new string would be 'OELLH' "
   ]
  },
  {
   "cell_type": "code",
   "execution_count": null,
   "metadata": {},
   "outputs": [
    {
     "name": "stdout",
     "output_type": "stream",
     "text": [
      "New string after swapping first and last characters: oellh\n"
     ]
    }
   ],
   "source": [
    "string = input(\"Enter a string: \")\n",
    "\n",
    "if len(string) > 1:\n",
    "    new_string = string[-1] + string[1:-1] + string[0]\n",
    "else:\n",
    "    new_string = string \n",
    "\n",
    "print(\"New string after swapping first and last characters:\", new_string)"
   ]
  },
  {
   "cell_type": "markdown",
   "metadata": {},
   "source": [
    "4. Write a Python program that accepts a string from user. Your program should create a new string in \n",
    "reverse of first string and display it. \n",
    "For example if the user enters the string 'EXAM' then new string would be 'MAXE'  "
   ]
  },
  {
   "cell_type": "code",
   "execution_count": 6,
   "metadata": {},
   "outputs": [
    {
     "name": "stdout",
     "output_type": "stream",
     "text": [
      "Reversed string: euqita\n"
     ]
    }
   ],
   "source": [
    "string = input(\"Enter a string: \")\n",
    "reversed_string = string[::-1]  \n",
    "print(\"Reversed string:\", reversed_string)"
   ]
  },
  {
   "cell_type": "markdown",
   "metadata": {},
   "source": [
    "5. Write a Python program that accepts a string from user. Your program should create a new string by \n",
    "shifting one position to left. \n",
    "For example if the user enters the string 'examination 2021' then new string would be 'xamination \n",
    "2021e'  "
   ]
  },
  {
   "cell_type": "code",
   "execution_count": 8,
   "metadata": {},
   "outputs": [
    {
     "name": "stdout",
     "output_type": "stream",
     "text": [
      "New string after shifting one position to the left: akistanP\n"
     ]
    }
   ],
   "source": [
    "string = input(\"Enter a string: \")\n",
    "\n",
    "if len(string) > 1:\n",
    "    new_string = string[1:] + string[0]\n",
    "else:\n",
    "    new_string = string  # If the string has only one character\n",
    "\n",
    "print(\"New string after shifting one position to the left:\", new_string)"
   ]
  },
  {
   "cell_type": "markdown",
   "metadata": {},
   "source": [
    "6. Write a program that asks the user to input his name and print its initials. Assuming that the user \n",
    "always types first name, middle name and last name and does not include any unnecessary spaces. \n",
    "For example, if the user enters Ajay Kumar Garg the program should display A. K. G. \n",
    "Note:Don't use split() method  "
   ]
  },
  {
   "cell_type": "code",
   "execution_count": 9,
   "metadata": {},
   "outputs": [
    {
     "name": "stdout",
     "output_type": "stream",
     "text": [
      "Initials: M. A. Q.\n"
     ]
    }
   ],
   "source": [
    "name = input(\"Enter your full name (first, middle, last): \")\n",
    "initials = \"\"\n",
    "\n",
    "for i in range(len(name)):\n",
    "    if i == 0 or name[i - 1] == \" \":\n",
    "        initials += name[i].upper() + \". \"\n",
    "\n",
    "print(\"Initials:\", initials.strip())"
   ]
  },
  {
   "cell_type": "markdown",
   "metadata": {},
   "source": [
    "7. A palindrome is a string that reads the same backward as forward. For example, the words dad, \n",
    "madam and radar are all palindromes. Write a programs that determines whether the string is a \n",
    "palindrome. \n",
    "Note: do not use reverse() method   "
   ]
  },
  {
   "cell_type": "code",
   "execution_count": 10,
   "metadata": {},
   "outputs": [
    {
     "name": "stdout",
     "output_type": "stream",
     "text": [
      "The string is a palindrome.\n"
     ]
    }
   ],
   "source": [
    "string = input(\"Enter a string: \")\n",
    "is_palindrome = True\n",
    "\n",
    "for i in range(len(string) // 2):\n",
    "    if string[i] != string[-(i + 1)]:\n",
    "        is_palindrome = False\n",
    "        break\n",
    "\n",
    "if is_palindrome:\n",
    "    print(\"The string is a palindrome.\")\n",
    "else:\n",
    "    print(\"The string is not a palindrome.\")"
   ]
  },
  {
   "cell_type": "markdown",
   "metadata": {},
   "source": [
    "8. Write a program that display following output: \n",
    "\n",
    "SHIFT \n",
    "\n",
    "HIFTS \n",
    "\n",
    "IFTSH \n",
    "\n",
    "FTSHI \n",
    "\n",
    "TSHIF \n",
    "\n",
    "SHIFT  "
   ]
  },
  {
   "cell_type": "code",
   "execution_count": 11,
   "metadata": {},
   "outputs": [
    {
     "name": "stdout",
     "output_type": "stream",
     "text": [
      "SHIFT\n",
      "HIFTS\n",
      "IFTSH\n",
      "FTSHI\n",
      "TSHIF\n"
     ]
    }
   ],
   "source": [
    "string = \"SHIFT\"\n",
    "\n",
    "for i in range(len(string)):\n",
    "    rotated_string = string[i:] + string[:i]\n",
    "    print(rotated_string)"
   ]
  },
  {
   "cell_type": "markdown",
   "metadata": {},
   "source": [
    "9. Write a program in python that accepts a string to setup a passwords. Your entered password must \n",
    "meet the following requirements: \n",
    "\n",
    "The password must be at least eight characters long. \n",
    "\n",
    "It must contain at least one uppercase letter. \n",
    "\n",
    "It must contain at least one lowercase letter. \n",
    "\n",
    "It must contain at least one numeric digit. \n",
    "\n",
    "Your program should should perform this validation."
   ]
  },
  {
   "cell_type": "code",
   "execution_count": 13,
   "metadata": {},
   "outputs": [
    {
     "name": "stdout",
     "output_type": "stream",
     "text": [
      "Password is valid.\n"
     ]
    }
   ],
   "source": [
    "password = input(\"Enter a password: \")\n",
    "\n",
    "has_upper = any(char.isupper() for char in password)\n",
    "has_lower = any(char.islower() for char in password)\n",
    "has_digit = any(char.isdigit() for char in password)\n",
    "is_length_valid = len(password) >= 8\n",
    "\n",
    "if has_upper and has_lower and has_digit and is_length_valid:\n",
    "    print(\"Password is valid.\")\n",
    "else:\n",
    "    print(\"Password is invalid. It must meet the following requirements:\")\n",
    "    print(\"- At least 8 characters long\")\n",
    "    print(\"- Contains at least one uppercase letter\")\n",
    "    print(\"- Contains at least one lowercase letter\")\n",
    "    print(\"- Contains at least one numeric digit\")"
   ]
  },
  {
   "cell_type": "code",
   "execution_count": null,
   "metadata": {},
   "outputs": [],
   "source": []
  }
 ],
 "metadata": {
  "kernelspec": {
   "display_name": "Python 3",
   "language": "python",
   "name": "python3"
  },
  "language_info": {
   "codemirror_mode": {
    "name": "ipython",
    "version": 3
   },
   "file_extension": ".py",
   "mimetype": "text/x-python",
   "name": "python",
   "nbconvert_exporter": "python",
   "pygments_lexer": "ipython3",
   "version": "3.12.1"
  }
 },
 "nbformat": 4,
 "nbformat_minor": 2
}
